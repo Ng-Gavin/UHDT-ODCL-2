{
 "cells": [
  {
   "cell_type": "markdown",
   "metadata": {},
   "source": [
    "Load libraries and set parameters"
   ]
  },
  {
   "cell_type": "code",
   "execution_count": 15,
   "metadata": {},
   "outputs": [],
   "source": [
    "from PIL import Image, ImageFont, ImageDraw\n",
    "import os\n",
    "import random\n",
    "import os, shutil\n",
    "import numpy as np\n",
    "\n",
    "#Funtoin to clear a directory of all files\n",
    "def delete_files_in_directory(folder):\n",
    "   for filename in os.listdir(folder):\n",
    "    file_path = os.path.join(folder, filename)\n",
    "    try:\n",
    "        if os.path.isfile(file_path) or os.path.islink(file_path):\n",
    "            os.unlink(file_path)\n",
    "        elif os.path.isdir(file_path):\n",
    "            shutil.rmtree(file_path)\n",
    "    except Exception as e:\n",
    "        print('Failed to delete %s. Reason: %s' % (file_path, e))\n",
    "\n",
    "#Function to take target shape and turn it into a numerical class for labelling\n",
    "def shape_to_class(shape):\n",
    "    switcher = {\n",
    "        \"circle\": 0,\n",
    "        \"cross\": 1,\n",
    "        \"pentagon\": 2,\n",
    "        \"quartercircle\": 3,\n",
    "        \"rectangle\": 4,\n",
    "        \"semicircle\": 5,\n",
    "        \"star\": 6,\n",
    "        \"triangle\": 7\n",
    "    }\n",
    "    return switcher.get(shape,\"nothing\")\n",
    "\n",
    "#Define possible characteristics for targets\n",
    "White = (255, 255, 255)\n",
    "Black = (0, 0, 0)\n",
    "Red = (255, 0, 0)\n",
    "Blue = (0, 0, 255)\n",
    "Green = (0, 255, 0)\n",
    "Purple = (128, 0, 128)\n",
    "Brown = (150, 75, 0)\n",
    "Orange = (255, 165, 0)\n",
    "colors = [White, Black, Red, Blue, Green, Purple, Brown, Orange]\n",
    "strcolors = ['White', 'Black', 'Red', 'Blue',\n",
    "             'Green', 'Purple', 'Brown', 'Orange']\n",
    "letters = [\"A\", \"B\", \"C\", \"D\", \"E\", \"F\", \"G\", \"H\", \"I\", \"J\", \"K\", \"L\", \"M\", \"N\", \"O\", \"P\", \"Q\",\n",
    "    \"R\", \"S\", \"T\", \"U\", \"V\", \"W\", \"X\", \"Y\", \"Z\", \"0\", \"1\", \"2\", \"3\", \"4\", \"5\", \"6\", \"7\", \"8\", \"9\"]\n",
    "shapes = []"
   ]
  },
  {
   "cell_type": "markdown",
   "metadata": {},
   "source": [
    "Preload Shape Plates"
   ]
  },
  {
   "cell_type": "code",
   "execution_count": 16,
   "metadata": {},
   "outputs": [],
   "source": [
    "for Sfiles in os.listdir('Real Plates'):\n",
    "    if Sfiles.endswith('.png'):\n",
    "        shapes.append(Sfiles)"
   ]
  },
  {
   "cell_type": "markdown",
   "metadata": {},
   "source": [
    "Load Font and Font Size"
   ]
  },
  {
   "cell_type": "code",
   "execution_count": 42,
   "metadata": {},
   "outputs": [],
   "source": [
    "alphanumSize = 1400\n",
    "myfont = ImageFont.truetype('calibrib.ttf', alphanumSize)"
   ]
  },
  {
   "cell_type": "markdown",
   "metadata": {},
   "source": [
    "Set Image Parameters and Set Amount of Images to Create"
   ]
  },
  {
   "cell_type": "code",
   "execution_count": 18,
   "metadata": {
    "tags": []
   },
   "outputs": [],
   "source": [
    "buffer = 138\n",
    "shapeReHeight = 105\n",
    "shapeReWidth = 136\n",
    "amount = 500"
   ]
  },
  {
   "cell_type": "markdown",
   "metadata": {},
   "source": [
    "Clear Old Images"
   ]
  },
  {
   "cell_type": "code",
   "execution_count": 19,
   "metadata": {},
   "outputs": [],
   "source": [
    "delete_files_in_directory(\"final/images\")\n",
    "delete_files_in_directory(\"final/labels\")"
   ]
  },
  {
   "cell_type": "markdown",
   "metadata": {},
   "source": [
    "Code To Generate Images"
   ]
  },
  {
   "cell_type": "code",
   "execution_count": 66,
   "metadata": {},
   "outputs": [],
   "source": [
    "for i in range(amount):\n",
    "    #Selects random characteristics for targets\n",
    "    letter = random.choice(letters)\n",
    "    shape = random.choice(shapes)\n",
    "    choice1 = random.randint(0, len(colors)-1)\n",
    "    choice2 = random.randint(0, len(colors)-1)\n",
    "    while (choice1 == choice2):\n",
    "        choice2 = random.randint(0, len(colors)-1)\n",
    "    shapeColor = colors[choice1]\n",
    "    shapeColorSTR = strcolors[choice1]\n",
    "    alphaColor = colors[choice2]\n",
    "    alphaColorSTR = strcolors[choice2]\n",
    "    \n",
    "    Shape = Image.open(f'Real Plates/{shape}')\n",
    "    Sshape, fext = os.path.splitext(shape)\n",
    "\n",
    "    #Shape = Image.open(f'Real Plates/Triangle.png')\n",
    "    #Sshape = 'triangle'\n",
    "\n",
    "    \n",
    "    #Shape = Shape.resize((int(shapeReWidth), int(shapeReHeight)))\n",
    "    shapeWidth, shapeHeight = Shape.size\n",
    "    \n",
    "    im = Shape.convert('RGBA')\n",
    "    # \"data\" is a height x width x 4 numpy array\n",
    "    data = np.array(im)\n",
    "    red, green, blue, alpha = data.T  # Temporarily unpack the bands for readability\n",
    "    # Replace white with red... (leaves alpha values alone...)\n",
    "    white_areas = (red == 255) & (blue == 255) & (green == 255)\n",
    "    # Transpose back needed\n",
    "    data[..., :-1][white_areas.T] = (shapeColor)\n",
    "    ColoredShape = Image.fromarray(data)\n",
    "    #ColoredShape = ColoredShape.filter(ImageFilter.BLUR)\n",
    "    target = ImageDraw.Draw(ColoredShape)\n",
    "    \n",
    "    if Sshape.lower() == 'circle': #Circle\n",
    "        target.text((1650,1350), letter, font=myfont, fill=alphaColor, anchor='mm', align='center')\n",
    "    elif Sshape.lower() == 'cross': #Cross\n",
    "        target.text((1650,1350), letter, font=myfont, fill=alphaColor, anchor='mm', align='center')\n",
    "    elif Sshape.lower() == 'pentagon': #Pentagon\n",
    "        target.text((1650,1350), letter, font=myfont, fill=alphaColor, anchor='mm', align='center')\n",
    "    elif Sshape.lower() == 'quartercircle': #Quarter Circle\n",
    "        target.text((1350,1600), letter, font=myfont, fill=alphaColor, anchor='mm', align='center')\n",
    "    elif Sshape.lower() == 'rectangle': #Rectangle\n",
    "        target.text((1650,1350), letter, font=myfont, fill=alphaColor, anchor='mm', align='center')\n",
    "    elif Sshape.lower() == 'semicircle': #Semicircle\n",
    "        target.text((1650,1450), letter, font=myfont, fill=alphaColor, anchor='mm', align='center')\n",
    "    elif Sshape.lower() == 'star':#Star\n",
    "        target.text((1650,1500), letter, font=myfont, fill=alphaColor, anchor='mm', align='center')\n",
    "    elif Sshape.lower() == 'triangle':#Triangle\n",
    "        target.text((1650,1800), letter, font=myfont, fill=alphaColor, anchor='mm', align='center')\n",
    "    else:\n",
    "        target.text((1600,1600),letter, font=myfont, fill=alphaColor, anchor='mm', align='center')\n",
    "    \n",
    "    ColoredShape.save(f'targets/{alphaColorSTR}-{letter} {shapeColorSTR}-{Sshape}.png')"
   ]
  }
 ],
 "metadata": {
  "kernelspec": {
   "display_name": "Python 3",
   "language": "python",
   "name": "python3"
  },
  "language_info": {
   "codemirror_mode": {
    "name": "ipython",
    "version": 3
   },
   "file_extension": ".py",
   "mimetype": "text/x-python",
   "name": "python",
   "nbconvert_exporter": "python",
   "pygments_lexer": "ipython3",
   "version": "3.11.6"
  }
 },
 "nbformat": 4,
 "nbformat_minor": 2
}
